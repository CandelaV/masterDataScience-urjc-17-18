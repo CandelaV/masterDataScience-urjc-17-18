{
 "cells": [
  {
   "cell_type": "markdown",
   "metadata": {},
   "source": [
    "# Práctica II - Proyecto regresión lineal bayesiana"
   ]
  },
  {
   "cell_type": "markdown",
   "metadata": {},
   "source": [
    "Para esta práctica, se propone la realización del proyecto de regresión lineal bayesiana documentado en las entradas de blog enlazadas en Aula Virtual, junto con el notebook de Jupyter y el fichero de datos que también se han publicado en la misma sección.\n",
    "\n",
    "Para resolver la práctica se deben contestar, en un fichero de texto o procesador de texto, las siguientes preguntas. Si necesitas ilustrar las respuestas con resultados de análisis o gráficas, también puedes adjuntar un notebook de Jupyter con el contenido que estimes oportuno."
   ]
  },
  {
   "cell_type": "markdown",
   "metadata": {},
   "source": [
    "## PREGUNTA 1"
   ]
  },
  {
   "cell_type": "markdown",
   "metadata": {},
   "source": [
    "### ¿Para qué variables hay que definir, en este caso, una distribución a priori?"
   ]
  },
  {
   "cell_type": "markdown",
   "metadata": {},
   "source": [
    "Se define una distribución a priori para los parámetros del modelo, es decir, para los coeficientes de cada una de las 6 variables independientes o predictores y para el termino independiente. \n",
    "\n",
    "En este caso, en lugar de definir distribuciones de probabilidad para cada uno de los parámetros del modelo por separado, se utiliza una formula que relaciona las features (input) con la variable objetivo (output):\n",
    "\n",
    "Grade ~ failures + higher_edu + mother_edu + studytime + father_edu + absences"
   ]
  },
  {
   "cell_type": "markdown",
   "metadata": {},
   "source": [
    "### ¿Qué distribuciones se han escogido para esta implementación? ¿Por qué?"
   ]
  },
  {
   "cell_type": "markdown",
   "metadata": {},
   "source": [
    "La dristribución a priori de los parámetros se define inicialmente como una distribución normal por tratarse del enfoque mas común.\n",
    "\n",
    "También se realiza una prueba utilizando como distribución a priori una T de Student que tiene mayor peso en las colas de la distribución por lo que es mas robusta frente a outliers. \n",
    "\n",
    "Usando un prior no informativo se \"deja hablar a los datos\"."
   ]
  },
  {
   "cell_type": "markdown",
   "metadata": {},
   "source": [
    "## PREGUNTA 2"
   ]
  },
  {
   "cell_type": "markdown",
   "metadata": {},
   "source": [
    "### Escribe el significado del intervalo de confianza de la solución frecuentista del problema (un párrafo que indique cómo reportarías en un documento el resultado obtenido para dicho intervalo). "
   ]
  },
  {
   "cell_type": "markdown",
   "metadata": {},
   "source": [
    "El intervalo de confianza en estadística Frecuentista se puede definir como un rango de valores diseñado para incluir el valor verdadero del parámetro con un mínimo de probabildiad.\n",
    "\n",
    "Por ejemplo, si se define un experimento frecuentista con un intervalo de confianza al 95%, esto implica que de 100 experimentos realizados de principio a fin, por lo menos en 95 de ellos los intervalos de confianza resultantes incluiran el valor verdadero del parámetro."
   ]
  },
  {
   "cell_type": "markdown",
   "metadata": {},
   "source": [
    "### A continuación, escribe el significado del p-valor obtenido para los coeficientes del modelo de regresión."
   ]
  },
  {
   "cell_type": "markdown",
   "metadata": {},
   "source": [
    "El p-valor en el modelo de regresión ofrece información acerca de la relación o falta de ella entre los predictores y la variable respuesta. \n",
    "\n",
    "Se puede interpretar de la siguiente manera: \n",
    "\n",
    "Un valor pequeño del p-valor indica que no es improbable que exista una relación sustancial entre predictor y respuesta debido al azar, en ausencia de de una asociación real entre predictor y respuesta. \n",
    "\n",
    "Es decir que si el p-valor es pequeño se puede rechazar la hipótesis nula de que el coeficiente sea 0 y por tanto existe asociación entre el predictor y la respuesta."
   ]
  },
  {
   "cell_type": "markdown",
   "metadata": {},
   "source": [
    "###  A continuación, indica cómo reportarías el intervalo de confianza obtenido mediante la solución bayesiana aquí planteada."
   ]
  },
  {
   "cell_type": "markdown",
   "metadata": {},
   "source": [
    "Contrario a frecuentista donde se concluye que un porcentaje (p.e. el 95%) de los intervalos de confianza contienen el parámetro, en estadística Bayesiana se puede afirmar que con una probabilidad dada (p.e. 95 %) el parámetro estará dentro del intervalo de credibildiad ( equivalente al intervalo de confianza )"
   ]
  },
  {
   "cell_type": "markdown",
   "metadata": {},
   "source": [
    "## PREGUNTA 3"
   ]
  },
  {
   "cell_type": "markdown",
   "metadata": {},
   "source": [
    "### ¿Qué algoritmo de muestreo estamos usando para calcular la distribución a posteriori?"
   ]
  },
  {
   "cell_type": "markdown",
   "metadata": {},
   "source": [
    "Se utiliza el algoritmo MCMC Markov Chain - Monte Carlo."
   ]
  },
  {
   "cell_type": "markdown",
   "metadata": {},
   "source": [
    "### ¿Cómo se resuelve el problema de que no podamos conocer de forma analítica el factor en el denominador de la fórmula del teorema de Bayes?"
   ]
  },
  {
   "cell_type": "markdown",
   "metadata": {},
   "source": [
    "En la práctica, calcular la distribución a posteriori excta es computacionalmente intratable para valores continuos por lo que se utilizan métodos de muestreo como Markov Chain Monte Carlo (MCMC) con el fin de aproximar la distribucion a posteriori.\n",
    "\n",
    "Cuantas mas muestras se obtengan, la aproximación de la distribución a posteriori convergerá con la distribución real a posteriori de los parámetros del modelo.\n",
    "\n",
    "En bayesiano no se obtiene un una única estimación para los parámetros, si no una distribución de los mismos. Esta distribución muestra incertidumbre en el modelo, la cual disminuirá al aumentar el número de puntos de datos, aumentando con ello la certeza de las estimaciones realizadas."
   ]
  },
  {
   "cell_type": "markdown",
   "metadata": {},
   "source": [
    "## PREGUNTA 4"
   ]
  },
  {
   "cell_type": "markdown",
   "metadata": {},
   "source": [
    "### ¿Qué significa el HPD que se representa gráficamente en las figuras para las distribuciones a posteriori de los coeficientes y de la desviación típica del modelo?"
   ]
  },
  {
   "cell_type": "markdown",
   "metadata": {},
   "source": [
    "HDP es el Highest Posterior Density y se puede definir como un intervalo de credibilidad para los parámetros. Un intervalo de credibilidad es el equivalente en estadísitca Bayesiana a los intervalos de confianza en estadística Frecuentista, aunque con interpretaciones diferentes."
   ]
  },
  {
   "cell_type": "markdown",
   "metadata": {},
   "source": [
    "### Explica qué otros intervalos alternativos o estimadores se podrían utilizar para reportar el resultado (e.g. MAP). Indica también qué ventajas tiene el HPD frente a otras alternativas."
   ]
  },
  {
   "cell_type": "markdown",
   "metadata": {},
   "source": [
    "En estadística Bayesiana, Maximum a Posteriori (MAP) es un estimador de una cantidad desconocida cuya moda es igual a la de la distribución a posteriori. Se puede utilizar para obeter el punto estimado de una cantidad no observada basándose en datos empíricos.\n",
    "\n",
    "En comparación a HPD, permite incorporar un cálculo estimado de las creencias a priori acerca del valor de los parámetros. Se puede considerar por tanto que el estimador MAP es una regularización del estimador HPD.\n"
   ]
  },
  {
   "cell_type": "code",
   "execution_count": null,
   "metadata": {},
   "outputs": [],
   "source": []
  }
 ],
 "metadata": {
  "kernelspec": {
   "display_name": "Python 3",
   "language": "python",
   "name": "python3"
  },
  "language_info": {
   "codemirror_mode": {
    "name": "ipython",
    "version": 3
   },
   "file_extension": ".py",
   "mimetype": "text/x-python",
   "name": "python",
   "nbconvert_exporter": "python",
   "pygments_lexer": "ipython3",
   "version": "3.6.2"
  }
 },
 "nbformat": 4,
 "nbformat_minor": 2
}

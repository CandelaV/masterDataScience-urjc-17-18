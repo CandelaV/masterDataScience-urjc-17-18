{
 "cells": [
  {
   "cell_type": "markdown",
   "metadata": {},
   "source": [
    "# Sistemas Distribuidos de Procesamiento de Datos II"
   ]
  },
  {
   "cell_type": "markdown",
   "metadata": {},
   "source": [
    "# Práctica final T2 (Parte I)"
   ]
  },
  {
   "cell_type": "markdown",
   "metadata": {},
   "source": [
    "• Datos: Fichero con tweets del GP MotoGP de Qatar 2014 (ALTO DATABASE).\n",
    "\n",
    "• Tecnologías: Spark SQL, DataFrames, Jupyter notebook.\n",
    "\n",
    "• Versión Spark: 2.2.1 o superior.\n",
    "\n",
    "• Fecha de entrega: Domingo, 6 de mayo de 2018, a las 23:55."
   ]
  },
  {
   "cell_type": "markdown",
   "metadata": {},
   "source": [
    "## Librerias"
   ]
  },
  {
   "cell_type": "code",
   "execution_count": 1,
   "metadata": {},
   "outputs": [
    {
     "name": "stdout",
     "output_type": "stream",
     "text": [
      "<pyspark.sql.session.SparkSession object at 0x108737940>\n",
      "<SparkContext master=local[*] appName=Practica SparkSQL MotoGP 2014>\n"
     ]
    }
   ],
   "source": [
    "import pyspark\n",
    "from pyspark.sql import SparkSession\n",
    "spark = (SparkSession.builder\n",
    "    .master(\"local[*]\")\n",
    "    .config(\"spark.driver.cores\", 1)\n",
    "    .appName(\"Practica SparkSQL MotoGP 2014\")\n",
    "    .getOrCreate() )\n",
    "sc = spark.sparkContext\n",
    "print(spark)\n",
    "print(sc)"
   ]
  },
  {
   "cell_type": "code",
   "execution_count": 2,
   "metadata": {
    "collapsed": true
   },
   "outputs": [],
   "source": [
    "    from pyspark.sql.types import *\n",
    "    from pyspark.sql.functions import *"
   ]
  },
  {
   "cell_type": "markdown",
   "metadata": {},
   "source": [
    "## Importamos los datos"
   ]
  },
  {
   "cell_type": "markdown",
   "metadata": {},
   "source": [
    "Primero definimos el esquema de datos"
   ]
  },
  {
   "cell_type": "code",
   "execution_count": 3,
   "metadata": {
    "collapsed": true
   },
   "outputs": [],
   "source": [
    "customSchema = StructType([StructField(\"Id\", LongType(), True),\n",
    "                           StructField(\"Parent_sys_id\", StringType(), True),\n",
    "                           StructField(\"Source\", StringType(), True),\n",
    "                           StructField(\"Mentions\", StringType(), True),\n",
    "                           StructField(\"Target\", StringType(), True),\n",
    "                           StructField(\"Name_source\", StringType(), True),\n",
    "                           StructField(\"Body\", StringType(), True),\n",
    "                           StructField(\"Pub_date\", TimestampType(), True),\n",
    "                           StructField(\"URLs\", StringType(), True),\n",
    "                           StructField(\"Tipe_action\", StringType(), True),\n",
    "                           StructField(\"Link\", StringType(), True),\n",
    "                           StructField(\"Has_link\", ByteType(), True),\n",
    "                           StructField(\"Has_picture\", ByteType(), True),\n",
    "                           StructField(\"Website\", StringType(), True),\n",
    "                           StructField(\"Country\", StringType(), True),\n",
    "                           StructField(\"Activity\", LongType(), True),\n",
    "                           StructField(\"Followers\", LongType(), True),\n",
    "                           StructField(\"Following\", LongType(), True),\n",
    "                           StructField(\"Location\", StringType(), True)\n",
    "                          ])"
   ]
  },
  {
   "cell_type": "markdown",
   "metadata": {},
   "source": [
    "A continuación cargamos los datos utilizando el esquema definido:"
   ]
  },
  {
   "cell_type": "code",
   "execution_count": 4,
   "metadata": {
    "collapsed": true
   },
   "outputs": [],
   "source": [
    "events = spark.read.csv(\"data/DATASET-Twitter-23-26-Mar-2014-MotoGP-Qatar.csv\",\n",
    "                        header=True, schema=customSchema, timestampFormat=\"dd/MM/yyyy HH:mm\")\n",
    "                        #mode=\"FAILFAST\") #"
   ]
  },
  {
   "cell_type": "code",
   "execution_count": 5,
   "metadata": {},
   "outputs": [
    {
     "data": {
      "text/plain": [
       "257680"
      ]
     },
     "execution_count": 5,
     "metadata": {},
     "output_type": "execute_result"
    }
   ],
   "source": [
    "events.count()"
   ]
  },
  {
   "cell_type": "markdown",
   "metadata": {},
   "source": [
    "Se han cargaado 257680 registros."
   ]
  },
  {
   "cell_type": "markdown",
   "metadata": {},
   "source": [
    "Comprobamos que el esquema del dataframe se corresponde con el definido:"
   ]
  },
  {
   "cell_type": "code",
   "execution_count": 6,
   "metadata": {},
   "outputs": [
    {
     "name": "stdout",
     "output_type": "stream",
     "text": [
      "root\n",
      " |-- Id: long (nullable = true)\n",
      " |-- Parent_sys_id: string (nullable = true)\n",
      " |-- Source: string (nullable = true)\n",
      " |-- Mentions: string (nullable = true)\n",
      " |-- Target: string (nullable = true)\n",
      " |-- Name_source: string (nullable = true)\n",
      " |-- Body: string (nullable = true)\n",
      " |-- Pub_date: timestamp (nullable = true)\n",
      " |-- URLs: string (nullable = true)\n",
      " |-- Tipe_action: string (nullable = true)\n",
      " |-- Link: string (nullable = true)\n",
      " |-- Has_link: byte (nullable = true)\n",
      " |-- Has_picture: byte (nullable = true)\n",
      " |-- Website: string (nullable = true)\n",
      " |-- Country: string (nullable = true)\n",
      " |-- Activity: long (nullable = true)\n",
      " |-- Followers: long (nullable = true)\n",
      " |-- Following: long (nullable = true)\n",
      " |-- Location: string (nullable = true)\n",
      "\n"
     ]
    }
   ],
   "source": [
    "events.printSchema()"
   ]
  },
  {
   "cell_type": "markdown",
   "metadata": {},
   "source": [
    "## PREGUNTA A"
   ]
  },
  {
   "cell_type": "markdown",
   "metadata": {},
   "source": [
    "a) Calcular el número total de retweets por usuario para los 50 usuarios con más mensajes\n",
    "en la muestra de tweets analizados. Calcular, para cada uno de estos usuarios la media de\n",
    "enlaces (URLs) enviados por mensaje. (2.5 puntos)."
   ]
  },
  {
   "cell_type": "markdown",
   "metadata": {},
   "source": [
    "Los 50 usuarios con más mensajes de la muestra:"
   ]
  },
  {
   "cell_type": "code",
   "execution_count": null,
   "metadata": {
    "collapsed": true,
    "scrolled": false
   },
   "outputs": [],
   "source": [
    "users_50 = events\\\n",
    " .groupBy(\"Source\")\\\n",
    " .agg(count(\"Id\").alias(\"tweets\"))\\\n",
    " .orderBy(\"tweets\", ascending=False)\\\n",
    " .limit(50)\n",
    "users_50.show(50)"
   ]
  },
  {
   "cell_type": "markdown",
   "metadata": {},
   "source": [
    "Numero total de retweets por usuario para los 50 usuarios con mas mensajes en la muestra:"
   ]
  },
  {
   "cell_type": "code",
   "execution_count": null,
   "metadata": {
    "collapsed": true,
    "scrolled": false
   },
   "outputs": [],
   "source": [
    "events.where(events.Tipe_action == \"RT\")\\\n",
    ".join(users_50,\"Source\", how=\"right\")\\\n",
    ".groupBy(\"Source\",\"Tipe_action\")\\\n",
    ".agg(count(\"Id\").alias(\"retweets\"))\\\n",
    ".orderBy(\"retweets\", ascending=False)\\\n",
    ".show(50) # Son 44"
   ]
  },
  {
   "cell_type": "markdown",
   "metadata": {},
   "source": [
    "Hay seis twitteros de los 50 con mas mensajes de la muestra que no han hecho ningun retweet."
   ]
  },
  {
   "cell_type": "markdown",
   "metadata": {},
   "source": [
    "Media de enlaces URL enviados por mensaje para los 50 usuarios con mas mensajes en la muestra:"
   ]
  },
  {
   "cell_type": "code",
   "execution_count": null,
   "metadata": {
    "collapsed": true
   },
   "outputs": [],
   "source": [
    "# Creamos una UDF para obtener el número de URLs por mensaje:\n",
    "def string_len_list(string):\n",
    "    if string is not None and string != '0':\n",
    "        return len(string.split(','))\n",
    "    else:\n",
    "        return 0\n",
    "string_len_list_udf = udf(string_len_list, IntegerType())"
   ]
  },
  {
   "cell_type": "markdown",
   "metadata": {},
   "source": [
    "Calculamos la media de URLs sumando el numero total de URL´s incluidas en todos los tweets (TW, RT y MT) de un usuario dividido entre el número total de tweets enviados por dicho usuario:"
   ]
  },
  {
   "cell_type": "code",
   "execution_count": null,
   "metadata": {
    "collapsed": true,
    "scrolled": false
   },
   "outputs": [],
   "source": [
    "events.join(users_50,\"Source\", how = \"right\")\\\n",
    ".withColumn(\"numero_URLs\", string_len_list_udf(events.URLs))\\\n",
    ".groupBy(\"Source\")\\\n",
    ".agg(sum(\"numero_URLs\").alias(\"total_URLs\"),count(\"Id\").alias(\"tweets\"),(round(sum(\"numero_URLs\")/count(\"Id\"),2)).alias(\"media_URLs\"))\\\n",
    ".orderBy(\"media_URLs\", ascending=False)\\\n",
    ".show(50)"
   ]
  },
  {
   "cell_type": "markdown",
   "metadata": {},
   "source": [
    "## PREGUNTA B"
   ]
  },
  {
   "cell_type": "markdown",
   "metadata": {},
   "source": [
    "b) Calcular el número total de mensajes que contienen información de geolocalización en\n",
    "el campo LOCATION.(2.5 puntos)."
   ]
  },
  {
   "cell_type": "markdown",
   "metadata": {},
   "source": [
    "Si la variable de Gelocalización \"Location\" empieza por “ÜT”, esto indica que se proporcionan las coordenadas exactas desde donde se emitió el tweet."
   ]
  },
  {
   "cell_type": "code",
   "execution_count": null,
   "metadata": {
    "collapsed": true
   },
   "outputs": [],
   "source": [
    "events.where(col(\"Location\").like(\"ÜT%\")).count()"
   ]
  },
  {
   "cell_type": "markdown",
   "metadata": {},
   "source": [
    "Observamos que hay 5 twitts a mayores que contienen \"ÜT\" en la variable \"Location\" pero no necesariamente al comienzo de la misma:"
   ]
  },
  {
   "cell_type": "code",
   "execution_count": null,
   "metadata": {
    "collapsed": true
   },
   "outputs": [],
   "source": [
    "events.where(col(\"Location\").like(\"%ÜT%\")).count() - events.where(col(\"Location\").like(\"ÜT%\")).count()"
   ]
  },
  {
   "cell_type": "markdown",
   "metadata": {},
   "source": [
    "## PREGUNTA C"
   ]
  },
  {
   "cell_type": "markdown",
   "metadata": {},
   "source": [
    "c) Calcular las 10 cuentas de Twitter que más han sido mencionadas en todo el conjunto de\n",
    "datos analizados. (2.5 puntos)."
   ]
  },
  {
   "cell_type": "markdown",
   "metadata": {},
   "source": [
    "En el campo \"Mentions\" aparecen los usuarios separados por comas presentes en el contenido de aquellos mensajes tipo RT (Retweet) o MT (Mención)."
   ]
  },
  {
   "cell_type": "code",
   "execution_count": null,
   "metadata": {
    "collapsed": true
   },
   "outputs": [],
   "source": [
    "events.where(events.Tipe_action != \"TW\")\\\n",
    ".select(explode(split(col(\"Mentions\"), \",\")).alias(\"cuentas_mencionadas\"))\\\n",
    ".groupBy(\"cuentas_mencionadas\")\\\n",
    ".agg(count(\"cuentas_mencionadas\").alias(\"tweets\"))\\\n",
    ".orderBy(\"tweets\", ascending=False)\\\n",
    ".limit(10).show()"
   ]
  },
  {
   "cell_type": "markdown",
   "metadata": {},
   "source": [
    "## PREGUNTA D"
   ]
  },
  {
   "cell_type": "markdown",
   "metadata": {},
   "source": [
    "d) Calcular los 10 mensajes más retweeteados y los 10 mensajes que han acumulado más\n",
    "respuestas en la muestra de datos analizados. Ahora, restringe la búsqueda a los mensajes\n",
    "en el intervalo 2014-03-24 04:00 - 2014-03-24 10:00. (2.5 puntos)."
   ]
  },
  {
   "cell_type": "markdown",
   "metadata": {},
   "source": [
    "El campo \"Parent_sys_id\", si no es nulo (\"sin padre\"), contiene un ID que relaciona el post con aquel del cual depende por ser un retweet o una respuesta."
   ]
  },
  {
   "cell_type": "markdown",
   "metadata": {},
   "source": [
    "Los diez mensajes más retwiteados:"
   ]
  },
  {
   "cell_type": "code",
   "execution_count": null,
   "metadata": {
    "collapsed": true
   },
   "outputs": [],
   "source": [
    "mensajes_RT_10 = events.where((events.Tipe_action == \"RT\") & (events.Parent_sys_id != \"sin padre\"))\\\n",
    ".groupBy(\"Parent_sys_id\")\\\n",
    ".agg(count(\"Parent_sys_id\").alias(\"tweets\"))\\\n",
    ".orderBy(\"tweets\", ascending=False)\\\n",
    ".withColumnRenamed(\"Parent_sys_id\", \"Id\")\\\n",
    ".limit(10)\n",
    "mensajes_RT_10.show()"
   ]
  },
  {
   "cell_type": "markdown",
   "metadata": {},
   "source": [
    "Hacemos un join por \"Id\" con el dataframe original \"events\" para obtener más información acerca de los 10 mensajes mas retweeteados:"
   ]
  },
  {
   "cell_type": "code",
   "execution_count": null,
   "metadata": {
    "collapsed": true
   },
   "outputs": [],
   "source": [
    "events.join(mensajes_RT_10, on = \"Id\", how=\"right\")\\\n",
    ".select(\"Id\",\"Source\",\"Body\")\\\n",
    ".orderBy(\"tweets\", ascending=False).take(10)"
   ]
  },
  {
   "cell_type": "markdown",
   "metadata": {},
   "source": [
    "Los diez mensajes que han acumulado más respuestas:"
   ]
  },
  {
   "cell_type": "code",
   "execution_count": null,
   "metadata": {
    "collapsed": true
   },
   "outputs": [],
   "source": [
    "mensajes_MT_10 = events.where((events.Tipe_action == \"MT\")& (events.Parent_sys_id != \"sin padre\"))\\\n",
    ".groupBy(\"Parent_sys_id\")\\\n",
    ".agg(count(\"Parent_sys_id\").alias(\"tweets\"))\\\n",
    ".orderBy(\"tweets\", ascending=False)\\\n",
    ".withColumnRenamed(\"Parent_sys_id\", \"Id\")\\\n",
    ".limit(10)\n",
    "mensajes_MT_10.show()"
   ]
  },
  {
   "cell_type": "markdown",
   "metadata": {},
   "source": [
    "Hacemos un join por \"Id\" con el dataframe original \"events\" para obtener más información acerca de los 10 mensajes que han acumulado un mayor numero de respuestas:"
   ]
  },
  {
   "cell_type": "code",
   "execution_count": null,
   "metadata": {
    "collapsed": true
   },
   "outputs": [],
   "source": [
    "events.join(mensajes_MT_10, on = \"Id\", how=\"right\")\\\n",
    ".select(\"Id\",\"Source\",\"Body\")\\\n",
    ".orderBy(\"tweets\", ascending=False).take(10)"
   ]
  },
  {
   "cell_type": "markdown",
   "metadata": {},
   "source": [
    "Restringir la busqueda a los mensajes en el intervalo 2014-03-24 04:00 - 2014-03-24 10:00:"
   ]
  },
  {
   "cell_type": "markdown",
   "metadata": {},
   "source": [
    "El campo \"Pub_date\" contiene la fecha y hora en la que se ha escrito el mensaje."
   ]
  },
  {
   "cell_type": "code",
   "execution_count": null,
   "metadata": {
    "collapsed": true
   },
   "outputs": [],
   "source": [
    "mensajes_RT_10_date = events.where(events.Pub_date.between('2014-03-24 04:00' , '2014-03-24 10:00'))\\\n",
    ".where((events.Tipe_action == \"RT\") & (events.Parent_sys_id != \"sin padre\"))\\\n",
    ".groupBy(\"Parent_sys_id\")\\\n",
    ".agg(count(\"Parent_sys_id\").alias(\"tweets\"))\\\n",
    ".orderBy(\"tweets\", ascending=False)\\\n",
    ".withColumnRenamed(\"Parent_sys_id\", \"Id\")\\\n",
    ".limit(10)\n",
    "mensajes_RT_10_date.show()"
   ]
  },
  {
   "cell_type": "code",
   "execution_count": null,
   "metadata": {
    "collapsed": true
   },
   "outputs": [],
   "source": [
    "events.join(mensajes_RT_10_date, on = \"Id\", how=\"right\")\\\n",
    ".select(\"Id\",\"Source\",\"Body\")\\\n",
    ".orderBy(\"tweets\", ascending=False).take(10)"
   ]
  },
  {
   "cell_type": "code",
   "execution_count": null,
   "metadata": {
    "collapsed": true
   },
   "outputs": [],
   "source": [
    "mensajes_MT_10_date = events.where(events.Pub_date.between('2014-03-24 04:00' , '2014-03-24 10:00'))\\\n",
    ".where((events.Tipe_action == \"MT\")& (events.Parent_sys_id != \"sin padre\"))\\\n",
    ".groupBy(\"Parent_sys_id\")\\\n",
    ".agg(count(\"Parent_sys_id\").alias(\"tweets\"))\\\n",
    ".orderBy(\"tweets\", ascending=False)\\\n",
    ".withColumnRenamed(\"Parent_sys_id\", \"Id\")\\\n",
    ".limit(10)\n",
    "mensajes_MT_10_date.show()"
   ]
  },
  {
   "cell_type": "code",
   "execution_count": null,
   "metadata": {
    "collapsed": true
   },
   "outputs": [],
   "source": [
    "events.join(mensajes_MT_10_date, on = \"Id\", how=\"right\")\\\n",
    ".select(\"Id\",\"Source\",\"Body\")\\\n",
    ".orderBy(\"tweets\", ascending=False).take(10)"
   ]
  },
  {
   "cell_type": "markdown",
   "metadata": {},
   "source": [
    "## Paramos el contexto de Spark"
   ]
  },
  {
   "cell_type": "code",
   "execution_count": null,
   "metadata": {
    "collapsed": true
   },
   "outputs": [],
   "source": [
    "sc.stop()"
   ]
  },
  {
   "cell_type": "code",
   "execution_count": null,
   "metadata": {
    "collapsed": true
   },
   "outputs": [],
   "source": []
  }
 ],
 "metadata": {
  "kernelspec": {
   "display_name": "Python 3",
   "language": "python",
   "name": "python3"
  },
  "language_info": {
   "codemirror_mode": {
    "name": "ipython",
    "version": 3
   },
   "file_extension": ".py",
   "mimetype": "text/x-python",
   "name": "python",
   "nbconvert_exporter": "python",
   "pygments_lexer": "ipython3",
   "version": "3.6.2"
  }
 },
 "nbformat": 4,
 "nbformat_minor": 2
}

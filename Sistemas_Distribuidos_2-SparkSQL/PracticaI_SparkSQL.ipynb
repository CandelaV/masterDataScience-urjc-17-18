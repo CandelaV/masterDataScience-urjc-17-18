{
 "cells": [
  {
   "cell_type": "markdown",
   "metadata": {},
   "source": [
    "# Sistemas Distribuidos de Procesamiento de Datos II"
   ]
  },
  {
   "cell_type": "markdown",
   "metadata": {},
   "source": [
    "# Práctica final T2 (Parte I)"
   ]
  },
  {
   "cell_type": "markdown",
   "metadata": {},
   "source": [
    "• Datos: Fichero con tweets del GP MotoGP de Qatar 2014 (ALTO DATABASE).\n",
    "\n",
    "• Tecnologías: Spark SQL, DataFrames, Jupyter notebook.\n",
    "\n",
    "• Versión Spark: 2.2.1 o superior.\n",
    "\n",
    "• Fecha de entrega: Domingo, 6 de mayo de 2018, a las 23:55."
   ]
  },
  {
   "cell_type": "markdown",
   "metadata": {},
   "source": [
    "## Librerias"
   ]
  },
  {
   "cell_type": "code",
   "execution_count": 1,
   "metadata": {},
   "outputs": [
    {
     "name": "stdout",
     "output_type": "stream",
     "text": [
      "<pyspark.sql.session.SparkSession object at 0x107ad8128>\n",
      "<SparkContext master=local[*] appName=Practica SparkSQL MotoGP 2014>\n"
     ]
    }
   ],
   "source": [
    "import pyspark\n",
    "from pyspark.sql import SparkSession\n",
    "spark = (SparkSession.builder\n",
    "    .master(\"local[*]\")\n",
    "    .config(\"spark.driver.cores\", 1)\n",
    "    .appName(\"Practica SparkSQL MotoGP 2014\")\n",
    "    .getOrCreate() )\n",
    "sc = spark.sparkContext\n",
    "print(spark)\n",
    "print(sc)"
   ]
  },
  {
   "cell_type": "code",
   "execution_count": 2,
   "metadata": {
    "collapsed": true
   },
   "outputs": [],
   "source": [
    "    from pyspark.sql.types import *\n",
    "    from pyspark.sql.functions import *"
   ]
  },
  {
   "cell_type": "markdown",
   "metadata": {},
   "source": [
    "## Importamos los datos"
   ]
  },
  {
   "cell_type": "markdown",
   "metadata": {},
   "source": [
    "Primero definimos el esquema de datos"
   ]
  },
  {
   "cell_type": "code",
   "execution_count": 3,
   "metadata": {
    "collapsed": true
   },
   "outputs": [],
   "source": [
    "customSchema = StructType([StructField(\"Id\", LongType(), True),\n",
    "                           StructField(\"Parent_sys_id\", StringType(), True),\n",
    "                           StructField(\"Source\", StringType(), True),\n",
    "                           StructField(\"Mentions\", StringType(), True),\n",
    "                           StructField(\"Target\", StringType(), True),\n",
    "                           StructField(\"Name_source\", StringType(), True),\n",
    "                           StructField(\"Body\", StringType(), True),\n",
    "                           StructField(\"Pub_date\", TimestampType(), True),\n",
    "                           StructField(\"URLs\", StringType(), True),\n",
    "                           StructField(\"Tipe_action\", StringType(), True),\n",
    "                           StructField(\"Link\", StringType(), True),\n",
    "                           StructField(\"Has_link\", ByteType(), True),\n",
    "                           StructField(\"Has_picture\", ByteType(), True),\n",
    "                           StructField(\"Website\", StringType(), True),\n",
    "                           StructField(\"Country\", StringType(), True),\n",
    "                           StructField(\"Activity\", LongType(), True),\n",
    "                           StructField(\"Followers\", LongType(), True),\n",
    "                           StructField(\"Following\", LongType(), True),\n",
    "                           StructField(\"Location\", StringType(), True)\n",
    "                          ])"
   ]
  },
  {
   "cell_type": "markdown",
   "metadata": {},
   "source": [
    "A continuación cargamos los datos utilizando el esquema definido:"
   ]
  },
  {
   "cell_type": "code",
   "execution_count": 4,
   "metadata": {
    "collapsed": true
   },
   "outputs": [],
   "source": [
    "events = spark.read.csv(\"data/DATASET-Twitter-23-26-Mar-2014-MotoGP-Qatar.csv\",\n",
    "                        header=True, schema=customSchema, timestampFormat=\"dd/MM/yyyy HH:mm\")\n",
    "                        #mode=\"FAILFAST\") #"
   ]
  },
  {
   "cell_type": "code",
   "execution_count": 5,
   "metadata": {},
   "outputs": [
    {
     "data": {
      "text/plain": [
       "257680"
      ]
     },
     "execution_count": 5,
     "metadata": {},
     "output_type": "execute_result"
    }
   ],
   "source": [
    "events.count()"
   ]
  },
  {
   "cell_type": "markdown",
   "metadata": {},
   "source": [
    "Se han cargaado 257680 registros."
   ]
  },
  {
   "cell_type": "markdown",
   "metadata": {},
   "source": [
    "Comprobamos que el esquema del dataframe se corresponde con el definido:"
   ]
  },
  {
   "cell_type": "code",
   "execution_count": 6,
   "metadata": {},
   "outputs": [
    {
     "name": "stdout",
     "output_type": "stream",
     "text": [
      "root\n",
      " |-- Id: long (nullable = true)\n",
      " |-- Parent_sys_id: string (nullable = true)\n",
      " |-- Source: string (nullable = true)\n",
      " |-- Mentions: string (nullable = true)\n",
      " |-- Target: string (nullable = true)\n",
      " |-- Name_source: string (nullable = true)\n",
      " |-- Body: string (nullable = true)\n",
      " |-- Pub_date: timestamp (nullable = true)\n",
      " |-- URLs: string (nullable = true)\n",
      " |-- Tipe_action: string (nullable = true)\n",
      " |-- Link: string (nullable = true)\n",
      " |-- Has_link: byte (nullable = true)\n",
      " |-- Has_picture: byte (nullable = true)\n",
      " |-- Website: string (nullable = true)\n",
      " |-- Country: string (nullable = true)\n",
      " |-- Activity: long (nullable = true)\n",
      " |-- Followers: long (nullable = true)\n",
      " |-- Following: long (nullable = true)\n",
      " |-- Location: string (nullable = true)\n",
      "\n"
     ]
    }
   ],
   "source": [
    "events.printSchema()"
   ]
  },
  {
   "cell_type": "markdown",
   "metadata": {},
   "source": [
    "## PREGUNTA A"
   ]
  },
  {
   "cell_type": "markdown",
   "metadata": {},
   "source": [
    "a) Calcular el número total de retweets por usuario para los 50 usuarios con más mensajes\n",
    "en la muestra de tweets analizados. Calcular, para cada uno de estos usuarios la media de\n",
    "enlaces (URLs) enviados por mensaje. (2.5 puntos)."
   ]
  },
  {
   "cell_type": "markdown",
   "metadata": {},
   "source": [
    "Los 50 usuarios con más mensajes de la muestra:"
   ]
  },
  {
   "cell_type": "code",
   "execution_count": 7,
   "metadata": {
    "collapsed": true,
    "scrolled": false
   },
   "outputs": [
    {
     "name": "stdout",
     "output_type": "stream",
     "text": [
      "+---------------+------+\n",
      "|         Source|tweets|\n",
      "+---------------+------+\n",
      "|     m_azharaji|   486|\n",
      "|     twitMOTOGP|   401|\n",
      "|      johnbokke|   297|\n",
      "|   qatarflights|   283|\n",
      "|     box_repsol|   267|\n",
      "|    yolandaa_95|   185|\n",
      "|    AlessiaPont|   182|\n",
      "|    motomatters|   169|\n",
      "|     MM93Lovers|   169|\n",
      "|     Sonic_Moto|   165|\n",
      "|  noelia_260797|   157|\n",
      "|    birtymotogp|   155|\n",
      "|  trackseven707|   152|\n",
      "|   crash_motogp|   149|\n",
      "|    pedrosistas|   148|\n",
      "|MarcMarquezTeam|   148|\n",
      "|   MotoFamilyGP|   144|\n",
      "|   Kay46_MotoGP|   142|\n",
      "|    blogenboxes|   133|\n",
      "|     Ciintiia93|   133|\n",
      "|      JesiPacio|   130|\n",
      "|     tigrescuba|   125|\n",
      "|    VAVEL_motor|   124|\n",
      "|   MotoGPquotes|   123|\n",
      "|       plusmoto|   119|\n",
      "|     thalia_26_|   119|\n",
      "|   iNotaMental_|   116|\n",
      "|       Cev_Ford|   115|\n",
      "|  btsportmotogp|   113|\n",
      "|        salo_98|   113|\n",
      "| AnaAlvarez9325|   111|\n",
      "|     kamseunyil|   111|\n",
      "|    Carlota_147|   109|\n",
      "|      Luciadp26|   109|\n",
      "|  keikokoeswadi|   107|\n",
      "|    FansHM_9323|   107|\n",
      "|   Paula_Bravo3|   107|\n",
      "|   rohimahfidia|   105|\n",
      "|    LiveMoto_GP|   104|\n",
      "| RedGhostOnline|   102|\n",
      "|      AsyrafAye|   102|\n",
      "|nisaauliarahma5|   101|\n",
      "|unmontondruedas|   101|\n",
      "|         Jhoez7|   100|\n",
      "|    MartinoMoto|    96|\n",
      "|         MotoGP|    95|\n",
      "|AkbarValeLorenz|    93|\n",
      "|Miisael_Sound07|    93|\n",
      "|     Cantimoto3|    92|\n",
      "|      _montse24|    92|\n",
      "+---------------+------+\n",
      "\n"
     ]
    }
   ],
   "source": [
    "users_50 = events\\\n",
    " .groupBy(\"Source\")\\\n",
    " .agg(count(\"Id\").alias(\"tweets\"))\\\n",
    " .orderBy(\"tweets\", ascending=False)\\\n",
    " .limit(50)\n",
    "users_50.show(50)"
   ]
  },
  {
   "cell_type": "markdown",
   "metadata": {},
   "source": [
    "Numero total de retweets por usuario para los 50 usuarios con mas mensajes en la muestra:"
   ]
  },
  {
   "cell_type": "code",
   "execution_count": 8,
   "metadata": {
    "collapsed": true,
    "scrolled": false
   },
   "outputs": [
    {
     "name": "stdout",
     "output_type": "stream",
     "text": [
      "+---------------+-----------+--------+\n",
      "|         Source|Tipe_action|retweets|\n",
      "+---------------+-----------+--------+\n",
      "|     twitMOTOGP|         RT|     401|\n",
      "|      johnbokke|         RT|     289|\n",
      "|   qatarflights|         RT|     215|\n",
      "|    AlessiaPont|         RT|     181|\n",
      "|     MM93Lovers|         RT|     169|\n",
      "|  trackseven707|         RT|     152|\n",
      "|  noelia_260797|         RT|     128|\n",
      "|    yolandaa_95|         RT|     126|\n",
      "|   MotoGPquotes|         RT|     123|\n",
      "|     tigrescuba|         RT|     123|\n",
      "|     Ciintiia93|         RT|     119|\n",
      "|      JesiPacio|         RT|     118|\n",
      "|        salo_98|         RT|     104|\n",
      "|nisaauliarahma5|         RT|     101|\n",
      "|    Carlota_147|         RT|      94|\n",
      "|     Sonic_Moto|         RT|      94|\n",
      "|     kamseunyil|         RT|      93|\n",
      "|      AsyrafAye|         RT|      92|\n",
      "|   rohimahfidia|         RT|      89|\n",
      "|      _montse24|         RT|      83|\n",
      "|      Luciadp26|         RT|      77|\n",
      "|     Cantimoto3|         RT|      75|\n",
      "|   Paula_Bravo3|         RT|      68|\n",
      "| AnaAlvarez9325|         RT|      61|\n",
      "|     thalia_26_|         RT|      60|\n",
      "|   Kay46_MotoGP|         RT|      54|\n",
      "|MarcMarquezTeam|         RT|      52|\n",
      "| RedGhostOnline|         RT|      49|\n",
      "|     box_repsol|         RT|      48|\n",
      "|    motomatters|         RT|      39|\n",
      "|       Cev_Ford|         RT|      26|\n",
      "|  btsportmotogp|         RT|      26|\n",
      "|    MartinoMoto|         RT|      24|\n",
      "|    pedrosistas|         RT|      24|\n",
      "|    FansHM_9323|         RT|      19|\n",
      "|   MotoFamilyGP|         RT|      17|\n",
      "|    blogenboxes|         RT|      15|\n",
      "|         MotoGP|         RT|      13|\n",
      "|  keikokoeswadi|         RT|       5|\n",
      "|         Jhoez7|         RT|       3|\n",
      "|unmontondruedas|         RT|       2|\n",
      "|    birtymotogp|         RT|       2|\n",
      "|     m_azharaji|         RT|       1|\n",
      "|   crash_motogp|         RT|       1|\n",
      "|    VAVEL_motor|       null|       0|\n",
      "|    LiveMoto_GP|       null|       0|\n",
      "|       plusmoto|       null|       0|\n",
      "|Miisael_Sound07|       null|       0|\n",
      "|AkbarValeLorenz|       null|       0|\n",
      "|   iNotaMental_|       null|       0|\n",
      "+---------------+-----------+--------+\n",
      "\n"
     ]
    }
   ],
   "source": [
    "events.where(events.Tipe_action == \"RT\")\\\n",
    ".join(users_50,\"Source\", how=\"right\")\\\n",
    ".groupBy(\"Source\",\"Tipe_action\")\\\n",
    ".agg(count(\"Id\").alias(\"retweets\"))\\\n",
    ".orderBy(\"retweets\", ascending=False)\\\n",
    ".show(50) # Son 44"
   ]
  },
  {
   "cell_type": "markdown",
   "metadata": {},
   "source": [
    "Hay seis twitteros de los 50 con mas mensajes de la muestra que no han hecho ningun retweet."
   ]
  },
  {
   "cell_type": "markdown",
   "metadata": {},
   "source": [
    "Media de enlaces URL enviados por mensaje para los 50 usuarios con mas mensajes en la muestra:"
   ]
  },
  {
   "cell_type": "code",
   "execution_count": 9,
   "metadata": {
    "collapsed": true
   },
   "outputs": [],
   "source": [
    "# Creamos una UDF para obtener el número de URLs por mensaje:\n",
    "def string_len_list(string):\n",
    "    if string is not None and string != '0':\n",
    "        return len(string.split(','))\n",
    "    else:\n",
    "        return 0\n",
    "string_len_list_udf = udf(string_len_list, IntegerType())"
   ]
  },
  {
   "cell_type": "markdown",
   "metadata": {},
   "source": [
    "Calculamos la media de URLs sumando el numero total de URL´s incluidas en todos los tweets (TW, RT y MT) de un usuario dividido entre el número total de tweets enviados por dicho usuario:"
   ]
  },
  {
   "cell_type": "code",
   "execution_count": 10,
   "metadata": {
    "collapsed": true,
    "scrolled": false
   },
   "outputs": [
    {
     "name": "stdout",
     "output_type": "stream",
     "text": [
      "+---------------+----------+------+----------+\n",
      "|         Source|total_URLs|tweets|media_URLs|\n",
      "+---------------+----------+------+----------+\n",
      "|    VAVEL_motor|       130|   124|      1.05|\n",
      "|     tigrescuba|       127|   125|      1.02|\n",
      "|   iNotaMental_|       116|   116|       1.0|\n",
      "|Miisael_Sound07|        93|    93|       1.0|\n",
      "|AkbarValeLorenz|        93|    93|       1.0|\n",
      "|    yolandaa_95|       176|   185|      0.95|\n",
      "|      AsyrafAye|        93|   102|      0.91|\n",
      "|   qatarflights|       233|   283|      0.82|\n",
      "|MarcMarquezTeam|       112|   148|      0.76|\n",
      "|     twitMOTOGP|       298|   401|      0.74|\n",
      "|      _montse24|        68|    92|      0.74|\n",
      "|        salo_98|        83|   113|      0.73|\n",
      "|   MotoFamilyGP|       102|   144|      0.71|\n",
      "|   MotoGPquotes|        85|   123|      0.69|\n",
      "|      JesiPacio|        88|   130|      0.68|\n",
      "|nisaauliarahma5|        67|   101|      0.66|\n",
      "|   crash_motogp|        96|   149|      0.64|\n",
      "|  trackseven707|        95|   152|      0.63|\n",
      "|     MM93Lovers|       105|   169|      0.62|\n",
      "|   rohimahfidia|        63|   105|       0.6|\n",
      "|    AlessiaPont|       107|   182|      0.59|\n",
      "|     Ciintiia93|        79|   133|      0.59|\n",
      "|    Carlota_147|        63|   109|      0.58|\n",
      "| AnaAlvarez9325|        59|   111|      0.53|\n",
      "|      Luciadp26|        53|   109|      0.49|\n",
      "|     Sonic_Moto|        81|   165|      0.49|\n",
      "|  noelia_260797|        77|   157|      0.49|\n",
      "|     box_repsol|       125|   267|      0.47|\n",
      "|         MotoGP|        44|    95|      0.46|\n",
      "|    MartinoMoto|        42|    96|      0.44|\n",
      "|    pedrosistas|        61|   148|      0.41|\n",
      "|     Cantimoto3|        35|    92|      0.38|\n",
      "|    FansHM_9323|        41|   107|      0.38|\n",
      "| RedGhostOnline|        38|   102|      0.37|\n",
      "|  btsportmotogp|        42|   113|      0.37|\n",
      "|      johnbokke|        93|   297|      0.31|\n",
      "|   Paula_Bravo3|        29|   107|      0.27|\n",
      "|    motomatters|        44|   169|      0.26|\n",
      "|    LiveMoto_GP|        20|   104|      0.19|\n",
      "|   Kay46_MotoGP|        26|   142|      0.18|\n",
      "|       plusmoto|        21|   119|      0.18|\n",
      "|     thalia_26_|        22|   119|      0.18|\n",
      "|    blogenboxes|        20|   133|      0.15|\n",
      "|unmontondruedas|         7|   101|      0.07|\n",
      "|     kamseunyil|         5|   111|      0.05|\n",
      "|  keikokoeswadi|         4|   107|      0.04|\n",
      "|       Cev_Ford|         4|   115|      0.03|\n",
      "|    birtymotogp|         2|   155|      0.01|\n",
      "|     m_azharaji|         1|   486|       0.0|\n",
      "|         Jhoez7|         0|   100|       0.0|\n",
      "+---------------+----------+------+----------+\n",
      "\n"
     ]
    }
   ],
   "source": [
    "events.join(users_50,\"Source\", how = \"right\")\\\n",
    ".withColumn(\"numero_URLs\", string_len_list_udf(events.URLs))\\\n",
    ".groupBy(\"Source\")\\\n",
    ".agg(sum(\"numero_URLs\").alias(\"total_URLs\"),count(\"Id\").alias(\"tweets\"),(round(sum(\"numero_URLs\")/count(\"Id\"),2)).alias(\"media_URLs\"))\\\n",
    ".orderBy(\"media_URLs\", ascending=False)\\\n",
    ".show(50)"
   ]
  },
  {
   "cell_type": "markdown",
   "metadata": {},
   "source": [
    "## PREGUNTA B"
   ]
  },
  {
   "cell_type": "markdown",
   "metadata": {},
   "source": [
    "b) Calcular el número total de mensajes que contienen información de geolocalización en\n",
    "el campo LOCATION.(2.5 puntos)."
   ]
  },
  {
   "cell_type": "markdown",
   "metadata": {},
   "source": [
    "Si la variable de Gelocalización \"Location\" empieza por “ÜT”, esto indica que se proporcionan las coordenadas exactas desde donde se emitió el tweet."
   ]
  },
  {
   "cell_type": "code",
   "execution_count": 11,
   "metadata": {
    "collapsed": true
   },
   "outputs": [
    {
     "data": {
      "text/plain": [
       "2136"
      ]
     },
     "execution_count": 11,
     "metadata": {},
     "output_type": "execute_result"
    }
   ],
   "source": [
    "events.where(col(\"Location\").like(\"ÜT%\")).count()"
   ]
  },
  {
   "cell_type": "markdown",
   "metadata": {},
   "source": [
    "Observamos que hay 5 twitts a mayores que contienen \"ÜT\" en la variable \"Location\" pero no necesariamente al comienzo de la misma:"
   ]
  },
  {
   "cell_type": "code",
   "execution_count": 12,
   "metadata": {
    "collapsed": true
   },
   "outputs": [
    {
     "data": {
      "text/plain": [
       "5"
      ]
     },
     "execution_count": 12,
     "metadata": {},
     "output_type": "execute_result"
    }
   ],
   "source": [
    "events.where(col(\"Location\").like(\"%ÜT%\")).count() - events.where(col(\"Location\").like(\"ÜT%\")).count()"
   ]
  },
  {
   "cell_type": "markdown",
   "metadata": {},
   "source": [
    "## PREGUNTA C"
   ]
  },
  {
   "cell_type": "markdown",
   "metadata": {},
   "source": [
    "c) Calcular las 10 cuentas de Twitter que más han sido mencionadas en todo el conjunto de\n",
    "datos analizados. (2.5 puntos)."
   ]
  },
  {
   "cell_type": "markdown",
   "metadata": {},
   "source": [
    "En el campo \"Mentions\" aparecen los usuarios separados por comas presentes en el contenido de aquellos mensajes tipo RT (Retweet) o MT (Mención)."
   ]
  },
  {
   "cell_type": "code",
   "execution_count": 13,
   "metadata": {
    "collapsed": true
   },
   "outputs": [
    {
     "name": "stdout",
     "output_type": "stream",
     "text": [
      "+-------------------+------+\n",
      "|cuentas_mencionadas|tweets|\n",
      "+-------------------+------+\n",
      "|       valeyellow46| 61226|\n",
      "|      marcmarquez93| 58132|\n",
      "|             motogp| 38219|\n",
      "|          lorenzo99| 16802|\n",
      "|     26_danipedrosa| 12346|\n",
      "|      alexmarquez23|  6117|\n",
      "|         box_repsol|  5304|\n",
      "|          jessansan|  4568|\n",
      "|                ims|  3325|\n",
      "|      btsportmotogp|  2479|\n",
      "+-------------------+------+\n",
      "\n"
     ]
    }
   ],
   "source": [
    "events.where(events.Tipe_action != \"TW\")\\\n",
    ".select(explode(split(col(\"Mentions\"), \",\")).alias(\"cuentas_mencionadas\"))\\\n",
    ".groupBy(\"cuentas_mencionadas\")\\\n",
    ".agg(count(\"cuentas_mencionadas\").alias(\"tweets\"))\\\n",
    ".orderBy(\"tweets\", ascending=False)\\\n",
    ".limit(10).show()"
   ]
  },
  {
   "cell_type": "markdown",
   "metadata": {},
   "source": [
    "## PREGUNTA D"
   ]
  },
  {
   "cell_type": "markdown",
   "metadata": {},
   "source": [
    "d) Calcular los 10 mensajes más retweeteados y los 10 mensajes que han acumulado más\n",
    "respuestas en la muestra de datos analizados. Ahora, restringe la búsqueda a los mensajes\n",
    "en el intervalo 2014-03-24 04:00 - 2014-03-24 10:00. (2.5 puntos)."
   ]
  },
  {
   "cell_type": "markdown",
   "metadata": {},
   "source": [
    "El campo \"Parent_sys_id\", si no es nulo (\"sin padre\"), contiene un ID que relaciona el post con aquel del cual depende por ser un retweet o una respuesta."
   ]
  },
  {
   "cell_type": "markdown",
   "metadata": {},
   "source": [
    "Los diez mensajes más retwiteados:"
   ]
  },
  {
   "cell_type": "code",
   "execution_count": 14,
   "metadata": {
    "collapsed": true
   },
   "outputs": [
    {
     "name": "stdout",
     "output_type": "stream",
     "text": [
      "+------+------+\n",
      "|    Id|tweets|\n",
      "+------+------+\n",
      "|603804|  5515|\n",
      "|674825|  4995|\n",
      "|460820|  3322|\n",
      "|758581|  3236|\n",
      "|553100|  2879|\n",
      "|681159|  2406|\n",
      "|553344|  2266|\n",
      "|666385|  1774|\n",
      "|605727|  1691|\n",
      "|488086|  1646|\n",
      "+------+------+\n",
      "\n"
     ]
    }
   ],
   "source": [
    "mensajes_RT_10 = events.where((events.Tipe_action == \"RT\") & (events.Parent_sys_id != \"sin padre\"))\\\n",
    ".groupBy(\"Parent_sys_id\")\\\n",
    ".agg(count(\"Parent_sys_id\").alias(\"tweets\"))\\\n",
    ".orderBy(\"tweets\", ascending=False)\\\n",
    ".withColumnRenamed(\"Parent_sys_id\", \"Id\")\\\n",
    ".limit(10)\n",
    "mensajes_RT_10.show()"
   ]
  },
  {
   "cell_type": "markdown",
   "metadata": {},
   "source": [
    "Hacemos un join por \"Id\" con el dataframe original \"events\" para obtener más información acerca de los 10 mensajes mas retweeteados:"
   ]
  },
  {
   "cell_type": "code",
   "execution_count": 15,
   "metadata": {
    "collapsed": true
   },
   "outputs": [
    {
     "data": {
      "text/plain": [
       "[Row(Id='603804', Source='marcmarquez93', Body=\"increíble, aún no me lo creo! / incredible, i can't believe it! \"),\n",
       " Row(Id='674825', Source='ValeYellow46', Body='what a race!great battles like good old times i had a lot of fun,i think was great also from tv @motogp rocks!'),\n",
       " Row(Id='460820', Source='marcmarquez93', Body='hoy comienza el mundial de motogp! / today starts 2014 motogp world championship! :) http://t.co/cwszfauajo'),\n",
       " Row(Id='758581', Source='marcmarquez93', Body='bella foto!! @valeyellow46 http://t.co/dmofztgkb8'),\n",
       " Row(Id='553100', Source=None, Body=None),\n",
       " Row(Id='681159', Source='ValeYellow46', Body='che gara ragazzi!!! grande inizio di stagione! tante battaglie come ai vecchi tempi,mi sono divertito da matti '),\n",
       " Row(Id='553344', Source='MotoGP', Body='another awesome win for @marcmarquez93 as he holds off @valeyellow46 with @26_danipedrosa third! #motogp'),\n",
       " Row(Id='666385', Source='marcmarquez93', Body='gracias a todos los que me han ayudado en esta recuperación! / thanks to all people helped me in this recovery! :) http://t.co/finaovmwtm'),\n",
       " Row(Id='605727', Source='lorenzo99', Body=\"perdonad equipo y afición, hoy me he equivocado yo. / today i've made a mistake. we will try at austin again! http://t.co/fpyc2oo7mp\"),\n",
       " Row(Id='488086', Source='MotoGP', Body='for those @valeyellow46 fans out there support him with #govale46 tonight! http://t.co/5o5bjqq30c')]"
      ]
     },
     "execution_count": 15,
     "metadata": {},
     "output_type": "execute_result"
    }
   ],
   "source": [
    "events.join(mensajes_RT_10, on = \"Id\", how=\"right\")\\\n",
    ".select(\"Id\",\"Source\",\"Body\")\\\n",
    ".orderBy(\"tweets\", ascending=False).take(10)"
   ]
  },
  {
   "cell_type": "markdown",
   "metadata": {},
   "source": [
    "Los diez mensajes que han acumulado más respuestas:"
   ]
  },
  {
   "cell_type": "code",
   "execution_count": 16,
   "metadata": {
    "collapsed": true
   },
   "outputs": [
    {
     "name": "stdout",
     "output_type": "stream",
     "text": [
      "+------+------+\n",
      "|    Id|tweets|\n",
      "+------+------+\n",
      "|681159|   554|\n",
      "|605727|   530|\n",
      "|603804|   511|\n",
      "|674825|   493|\n",
      "|460820|   233|\n",
      "|738975|   210|\n",
      "|758581|   153|\n",
      "|488086|   135|\n",
      "|461756|   125|\n",
      "|710916|   115|\n",
      "+------+------+\n",
      "\n"
     ]
    }
   ],
   "source": [
    "mensajes_MT_10 = events.where((events.Tipe_action == \"MT\")& (events.Parent_sys_id != \"sin padre\"))\\\n",
    ".groupBy(\"Parent_sys_id\")\\\n",
    ".agg(count(\"Parent_sys_id\").alias(\"tweets\"))\\\n",
    ".orderBy(\"tweets\", ascending=False)\\\n",
    ".withColumnRenamed(\"Parent_sys_id\", \"Id\")\\\n",
    ".limit(10)\n",
    "mensajes_MT_10.show()"
   ]
  },
  {
   "cell_type": "markdown",
   "metadata": {},
   "source": [
    "Hacemos un join por \"Id\" con el dataframe original \"events\" para obtener más información acerca de los 10 mensajes que han acumulado un mayor numero de respuestas:"
   ]
  },
  {
   "cell_type": "code",
   "execution_count": 17,
   "metadata": {
    "collapsed": true
   },
   "outputs": [
    {
     "data": {
      "text/plain": [
       "[Row(Id='681159', Source='ValeYellow46', Body='che gara ragazzi!!! grande inizio di stagione! tante battaglie come ai vecchi tempi,mi sono divertito da matti '),\n",
       " Row(Id='605727', Source='lorenzo99', Body=\"perdonad equipo y afición, hoy me he equivocado yo. / today i've made a mistake. we will try at austin again! http://t.co/fpyc2oo7mp\"),\n",
       " Row(Id='603804', Source='marcmarquez93', Body=\"increíble, aún no me lo creo! / incredible, i can't believe it! \"),\n",
       " Row(Id='674825', Source='ValeYellow46', Body='what a race!great battles like good old times i had a lot of fun,i think was great also from tv @motogp rocks!'),\n",
       " Row(Id='460820', Source='marcmarquez93', Body='hoy comienza el mundial de motogp! / today starts 2014 motogp world championship! :) http://t.co/cwszfauajo'),\n",
       " Row(Id='738975', Source='lorenzo99', Body='mirad lo que me acaba de llegar...!! adivináis el piloto? / look what just arrived! driver? #idol #happy #collection http://t.co/kpvidbn2j0'),\n",
       " Row(Id='758581', Source='marcmarquez93', Body='bella foto!! @valeyellow46 http://t.co/dmofztgkb8'),\n",
       " Row(Id='488086', Source='MotoGP', Body='for those @valeyellow46 fans out there support him with #govale46 tonight! http://t.co/5o5bjqq30c'),\n",
       " Row(Id='461756', Source='ValeYellow46', Body='circuito di losail,qatar sabato,prove ufficiali terzo scatto @gigisoldano http://t.co/3abmaekdqt'),\n",
       " Row(Id='710916', Source='daRossiTavullia', Body=\"#darossi the 'boss' @valeyellow46 is back!!! http://t.co/2eomnigkg3\")]"
      ]
     },
     "execution_count": 17,
     "metadata": {},
     "output_type": "execute_result"
    }
   ],
   "source": [
    "events.join(mensajes_MT_10, on = \"Id\", how=\"right\")\\\n",
    ".select(\"Id\",\"Source\",\"Body\")\\\n",
    ".orderBy(\"tweets\", ascending=False).take(10)"
   ]
  },
  {
   "cell_type": "markdown",
   "metadata": {},
   "source": [
    "Restringir la busqueda a los mensajes en el intervalo 2014-03-24 04:00 - 2014-03-24 10:00:"
   ]
  },
  {
   "cell_type": "markdown",
   "metadata": {},
   "source": [
    "El campo \"Pub_date\" contiene la fecha y hora en la que se ha escrito el mensaje."
   ]
  },
  {
   "cell_type": "code",
   "execution_count": 18,
   "metadata": {
    "collapsed": true
   },
   "outputs": [
    {
     "name": "stdout",
     "output_type": "stream",
     "text": [
      "+------+------+\n",
      "|    Id|tweets|\n",
      "+------+------+\n",
      "|645626|   443|\n",
      "|603804|   431|\n",
      "|638320|   368|\n",
      "|645328|   226|\n",
      "|605727|   161|\n",
      "|635916|   140|\n",
      "|622993|   138|\n",
      "|553100|   109|\n",
      "|627447|    89|\n",
      "|645225|    89|\n",
      "+------+------+\n",
      "\n"
     ]
    }
   ],
   "source": [
    "mensajes_RT_10_date = events.where(events.Pub_date.between('2014-03-24 04:00' , '2014-03-24 10:00'))\\\n",
    ".where((events.Tipe_action == \"RT\") & (events.Parent_sys_id != \"sin padre\"))\\\n",
    ".groupBy(\"Parent_sys_id\")\\\n",
    ".agg(count(\"Parent_sys_id\").alias(\"tweets\"))\\\n",
    ".orderBy(\"tweets\", ascending=False)\\\n",
    ".withColumnRenamed(\"Parent_sys_id\", \"Id\")\\\n",
    ".limit(10)\n",
    "mensajes_RT_10_date.show()"
   ]
  },
  {
   "cell_type": "code",
   "execution_count": 19,
   "metadata": {
    "collapsed": true
   },
   "outputs": [
    {
     "data": {
      "text/plain": [
       "[Row(Id='645626', Source='JesSanSan', Body=\"no os recuerda esta imagen a qatar 2013? pues no es un 'deja vu'... estamos en 2014! valentino rossi is on fire! http://t.co/ng5juwbrwl\"),\n",
       " Row(Id='603804', Source='marcmarquez93', Body=\"increíble, aún no me lo creo! / incredible, i can't believe it! \"),\n",
       " Row(Id='638320', Source='JesSanSan', Body='que foto! valentino rossi .@valeyellow46, marc márquez .@marcmarquez93 y dani pedrosa .@26_danipedrosa #qatar #motogp http://t.co/0vbnzmwirb'),\n",
       " Row(Id='645328', Source='JesSanSan', Body='valentino rossi @valeyellow46 con cara de satisfacción en el parque cerrado, mientras es felicitado por su equipo #46 http://t.co/n4lhbww3wm'),\n",
       " Row(Id='605727', Source='lorenzo99', Body=\"perdonad equipo y afición, hoy me he equivocado yo. / today i've made a mistake. we will try at austin again! http://t.co/fpyc2oo7mp\"),\n",
       " Row(Id='635916', Source='AlbiTebaldi', Body='@morsellilinda @valeyellow46 behind the scenes http://t.co/s6zlhcpdfw'),\n",
       " Row(Id='622993', Source='Falcio78', Body='@valeyellow46 fai paura! oggi non sento più parlare nessuno... che ridere. #vr46 http://t.co/0r8ehlls9b'),\n",
       " Row(Id='553100', Source=None, Body=None),\n",
       " Row(Id='627447', Source='DaniAuryn', Body='que bonito es ver a valentino rossi de nuevo con nivel para ganar. marc y rossi mis dos pilotos favoritos y que bonita carrera nos han dado!'),\n",
       " Row(Id='645225', Source='mflamigni', Body=\"che gara!! emozionante fino all'ultimo metro!!!!! grande @valeyellow46 !!! e' davvero un onore essere al tuo fianco in queste 'battaglie'\")]"
      ]
     },
     "execution_count": 19,
     "metadata": {},
     "output_type": "execute_result"
    }
   ],
   "source": [
    "events.join(mensajes_RT_10_date, on = \"Id\", how=\"right\")\\\n",
    ".select(\"Id\",\"Source\",\"Body\")\\\n",
    ".orderBy(\"tweets\", ascending=False).take(10)"
   ]
  },
  {
   "cell_type": "code",
   "execution_count": 20,
   "metadata": {
    "collapsed": true
   },
   "outputs": [
    {
     "name": "stdout",
     "output_type": "stream",
     "text": [
      "+------+------+\n",
      "|    Id|tweets|\n",
      "+------+------+\n",
      "|603804|    62|\n",
      "|605727|    46|\n",
      "|645225|    12|\n",
      "|645328|    12|\n",
      "|645626|     9|\n",
      "|664891|     9|\n",
      "|622993|     8|\n",
      "|626650|     7|\n",
      "|579001|     6|\n",
      "|646819|     4|\n",
      "+------+------+\n",
      "\n"
     ]
    }
   ],
   "source": [
    "mensajes_MT_10_date = events.where(events.Pub_date.between('2014-03-24 04:00' , '2014-03-24 10:00'))\\\n",
    ".where((events.Tipe_action == \"MT\")& (events.Parent_sys_id != \"sin padre\"))\\\n",
    ".groupBy(\"Parent_sys_id\")\\\n",
    ".agg(count(\"Parent_sys_id\").alias(\"tweets\"))\\\n",
    ".orderBy(\"tweets\", ascending=False)\\\n",
    ".withColumnRenamed(\"Parent_sys_id\", \"Id\")\\\n",
    ".limit(10)\n",
    "mensajes_MT_10_date.show()"
   ]
  },
  {
   "cell_type": "code",
   "execution_count": 21,
   "metadata": {
    "collapsed": true
   },
   "outputs": [
    {
     "data": {
      "text/plain": [
       "[Row(Id='603804', Source='marcmarquez93', Body=\"increíble, aún no me lo creo! / incredible, i can't believe it! \"),\n",
       " Row(Id='605727', Source='lorenzo99', Body=\"perdonad equipo y afición, hoy me he equivocado yo. / today i've made a mistake. we will try at austin again! http://t.co/fpyc2oo7mp\"),\n",
       " Row(Id='645225', Source='mflamigni', Body=\"che gara!! emozionante fino all'ultimo metro!!!!! grande @valeyellow46 !!! e' davvero un onore essere al tuo fianco in queste 'battaglie'\"),\n",
       " Row(Id='645328', Source='JesSanSan', Body='valentino rossi @valeyellow46 con cara de satisfacción en el parque cerrado, mientras es felicitado por su equipo #46 http://t.co/n4lhbww3wm'),\n",
       " Row(Id='645626', Source='JesSanSan', Body=\"no os recuerda esta imagen a qatar 2013? pues no es un 'deja vu'... estamos en 2014! valentino rossi is on fire! http://t.co/ng5juwbrwl\"),\n",
       " Row(Id='664891', Source='DennisNoyes', Body='tres carreras magníficas…y ningún problema con los nuevos reglamentos. podemos olvidarnos ya de reglamentos y disfrutar de grandes carreras.'),\n",
       " Row(Id='622993', Source='Falcio78', Body='@valeyellow46 fai paura! oggi non sento più parlare nessuno... che ridere. #vr46 http://t.co/0r8ehlls9b'),\n",
       " Row(Id='626650', Source='GigiSoldano', Body='the end of a special day! @valeyellow46 @mflamigni @calloalbanese @camilss @yamahamotogp @alex__briggs http://t.co/7sawuhygga'),\n",
       " Row(Id='579001', Source='MotoGP', Body='[race report]: @marcmarquez93 overcomes @valeyellow46 to take qatar win http://www.motogp.com/en/news/2014/qatar??????? http://t.co/0ofzvdqviw'),\n",
       " Row(Id='645001', Source='Alex__Briggs', Body='just driving back 2 the hotel now. all packed up. all smiling. the rider was on fire tonight. such a great ride. proud to be involved.')]"
      ]
     },
     "execution_count": 21,
     "metadata": {},
     "output_type": "execute_result"
    }
   ],
   "source": [
    "events.join(mensajes_MT_10_date, on = \"Id\", how=\"right\")\\\n",
    ".select(\"Id\",\"Source\",\"Body\")\\\n",
    ".orderBy(\"tweets\", ascending=False).take(10)"
   ]
  },
  {
   "cell_type": "markdown",
   "metadata": {},
   "source": [
    "## Paramos el contexto de Spark"
   ]
  },
  {
   "cell_type": "code",
   "execution_count": 22,
   "metadata": {
    "collapsed": true
   },
   "outputs": [],
   "source": [
    "sc.stop()"
   ]
  },
  {
   "cell_type": "code",
   "execution_count": null,
   "metadata": {
    "collapsed": true
   },
   "outputs": [],
   "source": []
  }
 ],
 "metadata": {
  "kernelspec": {
   "display_name": "Python 3",
   "language": "python",
   "name": "python3"
  },
  "language_info": {
   "codemirror_mode": {
    "name": "ipython",
    "version": 3
   },
   "file_extension": ".py",
   "mimetype": "text/x-python",
   "name": "python",
   "nbconvert_exporter": "python",
   "pygments_lexer": "ipython3",
   "version": "3.6.2"
  }
 },
 "nbformat": 4,
 "nbformat_minor": 2
}

{
 "cells": [
  {
   "cell_type": "code",
   "execution_count": null,
   "metadata": {
    "collapsed": true
   },
   "outputs": [],
   "source": [
    "from elasticsearch import Elasticsearch\n",
    "from elasticsearch_dsl import Search\n",
    "from datetime import datetime\n",
    "\n",
    "client = Elasticsearch([\"http://127.0.0.1:9200\"])\n",
    "\n",
    "INDEX = \"git_opnfv\""
   ]
  },
  {
   "cell_type": "markdown",
   "metadata": {},
   "source": [
    "Total de organizaciones involucradas:"
   ]
  },
  {
   "cell_type": "code",
   "execution_count": null,
   "metadata": {},
   "outputs": [],
   "source": [
    "s = Search(using=client, index=INDEX)\n",
    "s.aggs.metric('companies', 'cardinality', field='author_org_name')\n",
    "result = s.execute()\n",
    "result.to_dict()['aggregations'][\"companies\"][\"value\"]"
   ]
  },
  {
   "cell_type": "markdown",
   "metadata": {},
   "source": [
    "Top 5 organizaciones involucradas:"
   ]
  },
  {
   "cell_type": "code",
   "execution_count": null,
   "metadata": {},
   "outputs": [],
   "source": [
    "s = Search(using=client, index=INDEX)\n",
    "s.aggs.bucket('by_company', 'terms', field='author_org_name', size=5, order={'commits':'desc'}).metric('commits', 'cardinality', field='hash')\n",
    "result = s.execute()\n",
    "result.to_dict()['aggregations']\n",
    "\n",
    "for company in result.to_dict()['aggregations'][\"by_company\"][\"buckets\"]:\n",
    "    print(\"company: \" + company[\"key\"])\n",
    "    print('  commits: ' + str(company['commits']['value']))"
   ]
  },
  {
   "cell_type": "markdown",
   "metadata": {},
   "source": [
    "Numero total de autores:"
   ]
  },
  {
   "cell_type": "code",
   "execution_count": null,
   "metadata": {},
   "outputs": [],
   "source": [
    "s = Search(using=client, index=INDEX)\n",
    "s.aggs.metric('authors', 'cardinality', field='author_name')\n",
    "result = s.execute()\n",
    "result.to_dict()['aggregations'][\"authors\"][\"value\"]"
   ]
  },
  {
   "cell_type": "markdown",
   "metadata": {},
   "source": [
    "Top 5 autores:"
   ]
  },
  {
   "cell_type": "code",
   "execution_count": null,
   "metadata": {},
   "outputs": [],
   "source": [
    "s = Search(using=client, index=INDEX)\n",
    "s.aggs.bucket('by_author', 'terms', field='author_name', size=5, order={'commits':'desc'}).metric('commits', 'cardinality', field='hash')\n",
    "result = s.execute()\n",
    "result.to_dict()['aggregations']\n",
    "\n",
    "for author in result.to_dict()['aggregations'][\"by_author\"][\"buckets\"]:\n",
    "    print(\"author: \" + author[\"key\"])\n",
    "    print('  commits: ' + str(author['commits']['value']))"
   ]
  },
  {
   "cell_type": "markdown",
   "metadata": {},
   "source": [
    "Número total de repositorios:"
   ]
  },
  {
   "cell_type": "code",
   "execution_count": null,
   "metadata": {},
   "outputs": [],
   "source": [
    "s = Search(using=client, index=INDEX)\n",
    "s.aggs.metric('repos', 'cardinality', field='repo_name')\n",
    "result = s.execute()\n",
    "result.to_dict()['aggregations'][\"repos\"][\"value\"]"
   ]
  },
  {
   "cell_type": "markdown",
   "metadata": {},
   "source": [
    "Top 5 repositorios:"
   ]
  },
  {
   "cell_type": "code",
   "execution_count": null,
   "metadata": {},
   "outputs": [],
   "source": [
    "s = Search(using=client, index=INDEX)\n",
    "s.aggs.bucket('by_repo', 'terms', field='repo_name', size=5, order={'commits':'desc'}).metric('commits', 'cardinality', field='hash')\n",
    "result = s.execute()\n",
    "result.to_dict()['aggregations']\n",
    "\n",
    "for repo in result.to_dict()['aggregations'][\"by_repo\"][\"buckets\"]:\n",
    "    print(\"repo: \" + repo[\"key\"])\n",
    "    print('  commits: ' + str(repo['commits']['value']))"
   ]
  },
  {
   "cell_type": "markdown",
   "metadata": {},
   "source": [
    "De las 5 compañias mas importantes, sacar los 3 autores que más commits tienen con los 3 repos a los que mas contribuyen:"
   ]
  },
  {
   "cell_type": "code",
   "execution_count": null,
   "metadata": {
    "scrolled": true
   },
   "outputs": [],
   "source": [
    "s = Search(using=client, index=INDEX)\n",
    "s.aggs.bucket('by_organization', 'terms', field='author_org_name',size=3, order={'commits':'desc'})\\\n",
    ".metric('commits', 'cardinality', field='hash')\\\n",
    ".bucket('by_author', 'terms', field='author_name', size=3, order={'commits':'desc'})\\\n",
    ".metric('commits', 'cardinality', field='hash')\\\n",
    ".bucket('by_repo', 'terms', field='repo_name', size=2, order={'commits':'desc'})\\\n",
    ".metric('commits', 'cardinality', field='hash')\n",
    "result = s.execute()\n",
    "result.to_dict()[\"aggregations\"]\n",
    "\n",
    "for key in result.to_dict()[\"aggregations\"][\"by_organization\"][\"buckets\"]:\n",
    "    print(\"company: \" + key[\"key\"])\n",
    "    for author in key[\"by_author\"][\"buckets\"]:\n",
    "        print(\"  author: \" + author[\"key\"])\n",
    "        for repo in author[\"by_repo\"][\"buckets\"]: \n",
    "            print(\"    repo: \" + repo[\"key\"])"
   ]
  },
  {
   "cell_type": "markdown",
   "metadata": {},
   "source": [
    "Autores que han trabajado para mas de una compañía"
   ]
  },
  {
   "cell_type": "code",
   "execution_count": null,
   "metadata": {},
   "outputs": [],
   "source": [
    "s = Search(using=client, index=INDEX)\n",
    "s.aggs.bucket('by_author', 'terms', field='author_name', size=700)\\\n",
    ".bucket('by_org', 'terms', field='author_org_name')\\\n",
    ".metric('companies', 'cardinality', field='author_org_name')\n",
    "result = s.execute()\n",
    "orgs = result.to_dict()[\"aggregations\"][\"by_author\"][\"buckets\"]\n",
    "for org in orgs:\n",
    "    if len(org[\"by_org\"][\"buckets\"])!=1:\n",
    "        print(\"author: \" + org['key'])\n",
    "        for company in org[\"by_org\"][\"buckets\"]:\n",
    "            print(\"  company: \" + company[\"key\"])"
   ]
  },
  {
   "cell_type": "code",
   "execution_count": null,
   "metadata": {},
   "outputs": [],
   "source": []
  }
 ],
 "metadata": {
  "kernelspec": {
   "display_name": "Python 3",
   "language": "python",
   "name": "python3"
  },
  "language_info": {
   "codemirror_mode": {
    "name": "ipython",
    "version": 3
   },
   "file_extension": ".py",
   "mimetype": "text/x-python",
   "name": "python",
   "nbconvert_exporter": "python",
   "pygments_lexer": "ipython3",
   "version": "3.6.2"
  }
 },
 "nbformat": 4,
 "nbformat_minor": 2
}
